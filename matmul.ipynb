{
 "cells": [
  {
   "cell_type": "markdown",
   "id": "3c8da8be",
   "metadata": {},
   "source": [
    "# Matrix Multiplication Performance\n",
    "\n",
    "Testing TFLOPS for matrix multiplication, which is the most used operator in Transformers. The measured TFLOPS determines the upper bound a Transformer model can achieve.\n"
   ]
  },
  {
   "cell_type": "code",
   "execution_count": 6,
   "id": "ace0f0d7",
   "metadata": {},
   "outputs": [
    {
     "data": {
      "text/plain": [
       "'Tesla V100-SXM2-16GB'"
      ]
     },
     "execution_count": 6,
     "metadata": {},
     "output_type": "execute_result"
    }
   ],
   "source": [
    "import torch\n",
    "\n",
    "torch.cuda.get_device_name()"
   ]
  },
  {
   "cell_type": "code",
   "execution_count": 7,
   "id": "11d6d980",
   "metadata": {},
   "outputs": [
    {
     "name": "stdout",
     "output_type": "stream",
     "text": [
      "Measured square matmul TFLOPS:\t96.0\n"
     ]
    }
   ],
   "source": [
    "import torch\n",
    "from torch.utils import benchmark \n",
    "\n",
    "typ = torch.float16\n",
    "n = 1024 * 8\n",
    "a = torch.randn(n, n).type(typ).cuda()\n",
    "b = torch.randn(n, n).type(typ).cuda()\n",
    "\n",
    "t = benchmark.Timer(\n",
    "    stmt='a @ b',\n",
    "    globals={'a': a, 'b':b})\n",
    "\n",
    "# warm up\n",
    "c = a @ b\n",
    "\n",
    "x = t.timeit(50)\n",
    "\n",
    "tflops = 2*n**3 / x.median / 1e12\n",
    "print('Measured square matmul TFLOPS:\\t%.1f'%tflops)"
   ]
  },
  {
   "cell_type": "markdown",
   "id": "29fd1b5b",
   "metadata": {},
   "source": []
  }
 ],
 "metadata": {
  "kernelspec": {
   "display_name": "Python 3 (ipykernel)",
   "language": "python",
   "name": "python3"
  },
  "language_info": {
   "codemirror_mode": {
    "name": "ipython",
    "version": 3
   },
   "file_extension": ".py",
   "mimetype": "text/x-python",
   "name": "python",
   "nbconvert_exporter": "python",
   "pygments_lexer": "ipython3",
   "version": "3.8.13"
  }
 },
 "nbformat": 4,
 "nbformat_minor": 5
}
